{
 "cells": [
  {
   "cell_type": "markdown",
   "metadata": {
    "deletable": false,
    "editable": false,
    "run_control": {
     "frozen": true
    }
   },
   "source": [
    "# TP 3 : Algorithmes de recherche"
   ]
  },
  {
   "cell_type": "markdown",
   "metadata": {
    "deletable": false,
    "editable": false,
    "run_control": {
     "frozen": true
    }
   },
   "source": [
    "## Exercice 1 : le jeu du devin\n",
    "\n",
    "On propose de programmer le jeu du devin. Les règles sont simples :\n",
    "vous choisissez (mentalement) un nombre entre 1 et 100 et le devin (c'est-à-dire l'ordinateur) doit le trouver\n",
    "en un minimum d'essais. À chaque essai, l'ordinateur propose un nombre et\n",
    "vous devez répondre (sans tricher !) s'il a trouvé (le programme\n",
    "est alors terminé), ou si votre nombre est plus grand ou plus petit que le nombre proposé."
   ]
  },
  {
   "cell_type": "code",
   "execution_count": null,
   "metadata": {
    "tags": [
     "answer"
    ]
   },
   "outputs": [],
   "source": [
    "############################## \n",
    "#   Saisir votre code ici.   #\n",
    "##############################\n",
    "\n",
    "\n"
   ]
  },
  {
   "cell_type": "markdown",
   "metadata": {
    "deletable": false,
    "editable": false,
    "run_control": {
     "frozen": true
    }
   },
   "source": [
    "* Combien d'essais faut-il *au minimum* à l'ordinateur pour trouver le nombre ?\n",
    "* Combien d'essais faut-il *au maximum* à l'ordinateur pour trouver le nombre ?\n",
    "* Combien d'essais faut-il au maximum à l'ordinateur pour trouver un nombre entre 1 et 1000 ?"
   ]
  },
  {
   "cell_type": "markdown",
   "metadata": {
    "tags": [
     "answer"
    ]
   },
   "source": [
    "**Réponse :** Écrire votre réponse ici.\n",
    "\n",
    "\n"
   ]
  },
  {
   "cell_type": "markdown",
   "metadata": {
    "deletable": false,
    "editable": false,
    "run_control": {
     "frozen": true
    }
   },
   "source": [
    "## Exercice 2 : Mêmes caractères\n",
    "\n",
    "Définir la fonction `memes_caracteres` prenant deux chaînes\n",
    "et renvoyant `True` si elles comportent les mêmes caractères\n",
    "(tout caractère de l'une apparaît dans l'autre), et `False` sinon."
   ]
  },
  {
   "cell_type": "code",
   "execution_count": null,
   "metadata": {
    "tags": [
     "answer"
    ]
   },
   "outputs": [],
   "source": [
    "############################## \n",
    "#   Saisir votre code ici.   #\n",
    "##############################\n",
    "\n",
    "\n"
   ]
  },
  {
   "cell_type": "markdown",
   "metadata": {
    "deletable": false,
    "editable": false,
    "run_control": {
     "frozen": true
    }
   },
   "source": [
    "Définir la fonction `memes_caracteres_trie` prenant deux chaînes\n",
    "**triées** et renvoyant `True` si elles comportent les mêmes\n",
    "caractères et `False` sinon."
   ]
  },
  {
   "cell_type": "code",
   "execution_count": null,
   "metadata": {
    "tags": [
     "answer"
    ]
   },
   "outputs": [],
   "source": [
    "############################## \n",
    "#   Saisir votre code ici.   #\n",
    "##############################\n",
    "\n",
    "\n"
   ]
  },
  {
   "cell_type": "markdown",
   "metadata": {
    "deletable": false,
    "editable": false,
    "run_control": {
     "frozen": true
    }
   },
   "source": [
    "Quelle est la complexité dans le pire des cas de chacune des fonctions ?"
   ]
  },
  {
   "cell_type": "markdown",
   "metadata": {
    "tags": [
     "answer"
    ]
   },
   "source": [
    "**Réponse :** Écrire votre réponse ici.\n",
    "\n",
    "\n"
   ]
  },
  {
   "cell_type": "markdown",
   "metadata": {
    "deletable": false,
    "editable": false,
    "run_control": {
     "frozen": true
    }
   },
   "source": [
    "## Exercice 3 : Calcul d'une racine carrée\n",
    "\n",
    "Soit une fonction mathématique $f$ continue et strictement\n",
    "monotone (comme la racine carrée). Si $f(a)$ et $f(b)$ sont de\n",
    "signe différent (soit $f(a) \\times f(b) ≤ 0$), le théorème des\n",
    "valeurs intermédiaires garantit l’existence d’un nombre $x$ tel\n",
    "que $f(x) = 0$ sur l’intervalle $[a,b]$.\n",
    "On peut rechercher ce nombre par dichotomie, de manière approchée :\n",
    "    \n",
    "- on calcule $c = (a+b)/2$ et $f(c)$.\n",
    "- si $f(a) \\times f(c) ≤ 0$, la solution $x$ appartient à\n",
    "l’intervalle $[a,c]$ ; sinon elle appartient à l’intervalle $[c,b]$.\n",
    "- dans le premier cas, on remplace $b$ par $c$ ; dans le second,\n",
    "on remplace $a$ par $c$.\n",
    "\n",
    "On répète ces étapes tant que la longeur de l’intervalle est\n",
    "supérieure à une précision $\\epsilon$ donnée.\n",
    "La valeur de $c$ approchera alors la solution de $f(x)=0$ à\n",
    "$\\epsilon/2$ près.\n",
    "\n",
    "Définir une fonction calculant la racine carrée d'un nombre."
   ]
  },
  {
   "cell_type": "code",
   "execution_count": null,
   "metadata": {
    "tags": [
     "answer"
    ]
   },
   "outputs": [],
   "source": [
    "############################## \n",
    "#   Saisir votre code ici.   #\n",
    "##############################\n",
    "\n",
    "\n"
   ]
  }
 ],
 "metadata": {
  "@webio": {
   "lastCommId": "52224c4f3e84442186e9fff574981d39",
   "lastKernelId": "dc090556-af08-4ae0-8284-d7753f58a9cc"
  },
  "kernelspec": {
   "display_name": "Python 3",
   "language": "python",
   "name": "python3"
  },
  "language_info": {
   "codemirror_mode": {
    "name": "ipython",
    "version": 3
   },
   "file_extension": ".py",
   "mimetype": "text/x-python",
   "name": "python",
   "nbconvert_exporter": "python",
   "pygments_lexer": "ipython3",
   "version": "3.6.7"
  },
  "latex_envs": {
   "LaTeX_envs_menu_present": true,
   "autoclose": false,
   "autocomplete": true,
   "bibliofile": "biblio.bib",
   "cite_by": "apalike",
   "current_citInitial": 1,
   "eqLabelWithNumbers": true,
   "eqNumInitial": 1,
   "hotkeys": {
    "equation": "Ctrl-E",
    "itemize": "Ctrl-I"
   },
   "labels_anchors": false,
   "latex_user_defs": false,
   "report_style_numbering": false,
   "user_envs_cfg": false
  },
  "toc": {
   "base_numbering": 1,
   "nav_menu": {},
   "number_sections": true,
   "sideBar": true,
   "skip_h1_title": false,
   "title_cell": "Table of Contents",
   "title_sidebar": "Contents",
   "toc_cell": false,
   "toc_position": {},
   "toc_section_display": true,
   "toc_window_display": false
  },
  "varInspector": {
   "cols": {
    "lenName": 16,
    "lenType": 16,
    "lenVar": 40
   },
   "kernels_config": {
    "python": {
     "delete_cmd_postfix": "",
     "delete_cmd_prefix": "del ",
     "library": "var_list.py",
     "varRefreshCmd": "print(var_dic_list())"
    },
    "r": {
     "delete_cmd_postfix": ") ",
     "delete_cmd_prefix": "rm(",
     "library": "var_list.r",
     "varRefreshCmd": "cat(var_dic_list()) "
    }
   },
   "types_to_exclude": [
    "module",
    "function",
    "builtin_function_or_method",
    "instance",
    "_Feature"
   ],
   "window_display": false
  }
 },
 "nbformat": 4,
 "nbformat_minor": 2
}
